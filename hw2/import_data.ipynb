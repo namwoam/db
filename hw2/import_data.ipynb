{
 "cells": [
  {
   "cell_type": "code",
   "execution_count": 1,
   "metadata": {},
   "outputs": [],
   "source": [
    "import pandas as pd\n",
    "import sqlite3\n",
    "sheet_names = pd.ExcelFile(\"./data.xlsx\").sheet_names\n",
    "conn = sqlite3.connect('db.sqlite')\n",
    "for sheet_name in sheet_names:\n",
    "    df = pd.read_excel(\"./data.xlsx\", sheet_name)\n",
    "    df.to_sql(sheet_name, conn, if_exists='replace', index=False)"
   ]
  }
 ],
 "metadata": {
  "kernelspec": {
   "display_name": "base",
   "language": "python",
   "name": "python3"
  },
  "language_info": {
   "codemirror_mode": {
    "name": "ipython",
    "version": 3
   },
   "file_extension": ".py",
   "mimetype": "text/x-python",
   "name": "python",
   "nbconvert_exporter": "python",
   "pygments_lexer": "ipython3",
   "version": "3.10.12"
  },
  "orig_nbformat": 4
 },
 "nbformat": 4,
 "nbformat_minor": 2
}
