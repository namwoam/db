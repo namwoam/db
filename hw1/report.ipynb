{
 "cells": [
  {
   "cell_type": "markdown",
   "metadata": {},
   "source": [
    "# Database Management, Fall 2023 HW1\n",
    "B11705009 An-Che Liang"
   ]
  },
  {
   "cell_type": "markdown",
   "metadata": {},
   "source": [
    "## Part 1:"
   ]
  },
  {
   "cell_type": "code",
   "execution_count": 2,
   "metadata": {},
   "outputs": [
    {
     "data": {
      "text/html": [
       "<div>\n",
       "<style scoped>\n",
       "    .dataframe tbody tr th:only-of-type {\n",
       "        vertical-align: middle;\n",
       "    }\n",
       "\n",
       "    .dataframe tbody tr th {\n",
       "        vertical-align: top;\n",
       "    }\n",
       "\n",
       "    .dataframe thead th {\n",
       "        text-align: right;\n",
       "    }\n",
       "</style>\n",
       "<table border=\"1\" class=\"dataframe\">\n",
       "  <thead>\n",
       "    <tr style=\"text-align: right;\">\n",
       "      <th></th>\n",
       "      <th>instant</th>\n",
       "      <th>date</th>\n",
       "      <th>year</th>\n",
       "      <th>season</th>\n",
       "      <th>month</th>\n",
       "      <th>weekday</th>\n",
       "      <th>holiday</th>\n",
       "      <th>workday</th>\n",
       "      <th>weathersit</th>\n",
       "      <th>temp</th>\n",
       "      <th>atemp</th>\n",
       "      <th>humidity</th>\n",
       "      <th>windspeed</th>\n",
       "      <th>casual</th>\n",
       "      <th>registered</th>\n",
       "      <th>cnt</th>\n",
       "    </tr>\n",
       "  </thead>\n",
       "  <tbody>\n",
       "    <tr>\n",
       "      <th>0</th>\n",
       "      <td>1</td>\n",
       "      <td>2011-01-01</td>\n",
       "      <td>2011</td>\n",
       "      <td>1</td>\n",
       "      <td>1</td>\n",
       "      <td>6</td>\n",
       "      <td>0</td>\n",
       "      <td>0</td>\n",
       "      <td>2</td>\n",
       "      <td>14.11</td>\n",
       "      <td>18.18</td>\n",
       "      <td>80.58</td>\n",
       "      <td>5.94</td>\n",
       "      <td>331</td>\n",
       "      <td>654</td>\n",
       "      <td>985</td>\n",
       "    </tr>\n",
       "    <tr>\n",
       "      <th>1</th>\n",
       "      <td>2</td>\n",
       "      <td>2011-01-02</td>\n",
       "      <td>2011</td>\n",
       "      <td>1</td>\n",
       "      <td>1</td>\n",
       "      <td>0</td>\n",
       "      <td>0</td>\n",
       "      <td>0</td>\n",
       "      <td>2</td>\n",
       "      <td>14.90</td>\n",
       "      <td>17.69</td>\n",
       "      <td>69.61</td>\n",
       "      <td>9.20</td>\n",
       "      <td>131</td>\n",
       "      <td>670</td>\n",
       "      <td>801</td>\n",
       "    </tr>\n",
       "    <tr>\n",
       "      <th>2</th>\n",
       "      <td>3</td>\n",
       "      <td>2011-01-03</td>\n",
       "      <td>2011</td>\n",
       "      <td>1</td>\n",
       "      <td>1</td>\n",
       "      <td>1</td>\n",
       "      <td>0</td>\n",
       "      <td>1</td>\n",
       "      <td>1</td>\n",
       "      <td>8.05</td>\n",
       "      <td>9.47</td>\n",
       "      <td>43.73</td>\n",
       "      <td>9.19</td>\n",
       "      <td>120</td>\n",
       "      <td>1229</td>\n",
       "      <td>1349</td>\n",
       "    </tr>\n",
       "    <tr>\n",
       "      <th>3</th>\n",
       "      <td>4</td>\n",
       "      <td>2011-01-04</td>\n",
       "      <td>2011</td>\n",
       "      <td>1</td>\n",
       "      <td>1</td>\n",
       "      <td>2</td>\n",
       "      <td>0</td>\n",
       "      <td>1</td>\n",
       "      <td>1</td>\n",
       "      <td>8.20</td>\n",
       "      <td>10.61</td>\n",
       "      <td>59.04</td>\n",
       "      <td>5.93</td>\n",
       "      <td>108</td>\n",
       "      <td>1454</td>\n",
       "      <td>1562</td>\n",
       "    </tr>\n",
       "    <tr>\n",
       "      <th>4</th>\n",
       "      <td>5</td>\n",
       "      <td>2011-01-05</td>\n",
       "      <td>2011</td>\n",
       "      <td>1</td>\n",
       "      <td>1</td>\n",
       "      <td>3</td>\n",
       "      <td>0</td>\n",
       "      <td>1</td>\n",
       "      <td>1</td>\n",
       "      <td>9.31</td>\n",
       "      <td>11.46</td>\n",
       "      <td>43.70</td>\n",
       "      <td>6.92</td>\n",
       "      <td>82</td>\n",
       "      <td>1518</td>\n",
       "      <td>1600</td>\n",
       "    </tr>\n",
       "  </tbody>\n",
       "</table>\n",
       "</div>"
      ],
      "text/plain": [
       "   instant       date  year  season  month  weekday  holiday  workday  \\\n",
       "0        1 2011-01-01  2011       1      1        6        0        0   \n",
       "1        2 2011-01-02  2011       1      1        0        0        0   \n",
       "2        3 2011-01-03  2011       1      1        1        0        1   \n",
       "3        4 2011-01-04  2011       1      1        2        0        1   \n",
       "4        5 2011-01-05  2011       1      1        3        0        1   \n",
       "\n",
       "   weathersit   temp  atemp  humidity  windspeed  casual  registered   cnt  \n",
       "0           2  14.11  18.18     80.58       5.94     331         654   985  \n",
       "1           2  14.90  17.69     69.61       9.20     131         670   801  \n",
       "2           1   8.05   9.47     43.73       9.19     120        1229  1349  \n",
       "3           1   8.20  10.61     59.04       5.93     108        1454  1562  \n",
       "4           1   9.31  11.46     43.70       6.92      82        1518  1600  "
      ]
     },
     "execution_count": 2,
     "metadata": {},
     "output_type": "execute_result"
    }
   ],
   "source": [
    "import pandas as pd\n",
    "\n",
    "df = pd.read_excel(\"Bike.xlsx\")\n",
    "df.head()"
   ]
  },
  {
   "cell_type": "markdown",
   "metadata": {},
   "source": [
    "### Section (a)"
   ]
  },
  {
   "cell_type": "code",
   "execution_count": 3,
   "metadata": {},
   "outputs": [
    {
     "name": "stdout",
     "output_type": "stream",
     "text": [
      "weathersit=1, days=463, mean temperture=20.973542116630668, mean cnt=4876.7861771058315\n",
      "weathersit=2, days=247, mean temperture=19.285263157894732, mean cnt=4035.862348178138\n",
      "weathersit=3, days=21, mean temperture=17.77047619047619, mean cnt=1803.2857142857142\n"
     ]
    }
   ],
   "source": [
    "for weathersit_code in [1, 2, 3]:\n",
    "    subset_df = df[df[\"weathersit\"] == weathersit_code]\n",
    "    print(\n",
    "        f\"weathersit={weathersit_code}, days={len(subset_df)}, mean temperture={subset_df['temp'].mean()}, mean cnt={subset_df['cnt'].mean()}\")"
   ]
  },
  {
   "cell_type": "markdown",
   "metadata": {},
   "source": [
    "### Section (b)"
   ]
  },
  {
   "cell_type": "code",
   "execution_count": 4,
   "metadata": {},
   "outputs": [
    {
     "name": "stdout",
     "output_type": "stream",
     "text": [
      "weathersit=1 workday=0, days=156, mean temperture=20.193076923076923, mean cnt=4587.2692307692305\n",
      "weathersit=1 workday=1, days=307, mean temperture=21.370130293159608, mean cnt=5023.902280130294\n",
      "weathersit=2 workday=0, days=70, mean temperture=18.993000000000002, mean cnt=3936.8285714285716\n",
      "weathersit=2 workday=1, days=177, mean temperture=19.40084745762712, mean cnt=4075.0282485875705\n",
      "weathersit=3 workday=0, days=5, mean temperture=15.592000000000002, mean cnt=1815.4\n",
      "weathersit=3 workday=1, days=16, mean temperture=18.451249999999998, mean cnt=1799.5\n"
     ]
    }
   ],
   "source": [
    "for weathersit_code in [1, 2, 3]:\n",
    "    for work_status in [0, 1]:\n",
    "        weather_condition = df[\"weathersit\"] == weathersit_code\n",
    "        work_condition = df[\"workday\"] == work_status\n",
    "        subset_df = df[weather_condition & work_condition]\n",
    "        print(\n",
    "            f\"weathersit={weathersit_code} workday={work_status}, days={len(subset_df)}, mean temperture={subset_df['temp'].mean()}, mean cnt={subset_df['cnt'].mean()}\")"
   ]
  },
  {
   "cell_type": "markdown",
   "metadata": {},
   "source": [
    "### Section (c)"
   ]
  },
  {
   "cell_type": "code",
   "execution_count": 5,
   "metadata": {},
   "outputs": [
    {
     "name": "stdout",
     "output_type": "stream",
     "text": [
      "There are 81 days in year 2011 that satisfy the condition.\n",
      "There are 79 days in year 2012 that satisfy the condition.\n"
     ]
    }
   ],
   "source": [
    "for year in [2011,  2012]:\n",
    "    time_condition = df[\"year\"] == year\n",
    "    humidity_condition = (df[\"humidity\"] >= 30) & (df[\"humidity\"] <= 60)\n",
    "    cnt_condition = (df[\"cnt\"] >= 3000) & (df[\"cnt\"] <= 6000)\n",
    "    subset_df = df[time_condition & humidity_condition & cnt_condition]\n",
    "    print(\n",
    "        f\"There are {len(subset_df)} days in year {year} that satisfy the condition.\")"
   ]
  },
  {
   "cell_type": "markdown",
   "metadata": {},
   "source": [
    "## Part2:\n",
    "### Section (a)"
   ]
  },
  {
   "cell_type": "code",
   "execution_count": 1,
   "metadata": {},
   "outputs": [
    {
     "name": "stdout",
     "output_type": "stream",
     "text": [
      "[1, 3, 4, 12, 5, 6, 9, 18, 27, 33, 15, 7, 20]\n"
     ]
    },
    {
     "data": {
      "image/png": "[encoded data removed]",
      "text/plain": [
       "<Figure size 640x480 with 1 Axes>"
      ]
     },
     "metadata": {},
     "output_type": "display_data"
    }
   ],
   "source": [
    "import heapq\n",
    "import networkx as nx\n",
    "import matplotlib.pyplot as plt\n",
    "\n",
    "heap = [1, 15, 6, 18, 3, 7, 9, 12, 27, 33, 5, 4, 20]\n",
    "heapq.heapify(heap)\n",
    "print(heap)\n",
    "\n",
    "\n",
    "def show_heap(heap, title):\n",
    "\n",
    "    nx_graph = nx.DiGraph()\n",
    "    # Add nodes to the graph\n",
    "    for index, value in enumerate(heap):\n",
    "        nx_graph.add_node(index, value=value)\n",
    "\n",
    "    # Add edges to represent the parent-child relationships\n",
    "    for index in range(len(heap)):\n",
    "        if 2 * index + 1 < len(heap):\n",
    "            nx_graph.add_edge(index, 2 * index + 1, label='L')\n",
    "        if 2 * index + 2 < len(heap):\n",
    "            nx_graph.add_edge(index, 2 * index + 2, label='R')\n",
    "\n",
    "    # Create a plot of the heap structure\n",
    "    # Adjust the layout algorithm as needed\n",
    "    pos = nx.nx_agraph.graphviz_layout(nx_graph , prog=\"dot\")\n",
    "    labels = {i: nx_graph.nodes[i]['value'] for i in nx_graph.nodes}\n",
    "    nx.draw(nx_graph, pos, with_labels=True, labels=labels, node_size=200,\n",
    "            node_color='lightblue', font_size=12, font_weight='bold')\n",
    "    edge_labels = {(i, j): nx_graph[i][j]['label'] for i, j in nx_graph.edges}\n",
    "    nx.draw_networkx_edge_labels(\n",
    "        nx_graph, pos, edge_labels=edge_labels, font_size=10)\n",
    "\n",
    "    plt.title(title)\n",
    "    plt.axis('off')\n",
    "    plt.show()\n",
    "\n",
    "show_heap(heap , \"Min-Heap\")"
   ]
  },
  {
   "cell_type": "markdown",
   "metadata": {},
   "source": [
    "### Section (b)"
   ]
  },
  {
   "cell_type": "code",
   "execution_count": 2,
   "metadata": {},
   "outputs": [
    {
     "data": {
      "image/png": "[encoded data removed]",
      "text/plain": [
       "<Figure size 640x480 with 1 Axes>"
      ]
     },
     "metadata": {},
     "output_type": "display_data"
    }
   ],
   "source": [
    "heap = [1, 15, 6, 18, 3, 7, 9, 12, 27, 33, 5, 4, 20]\n",
    "heapq._heapify_max(heap)\n",
    "show_heap(heap , \"Max-Heap\")"
   ]
  },
  {
   "cell_type": "markdown",
   "metadata": {},
   "source": [
    "### Section (c)\n",
    "\n",
    "To store a min-heap inside an array or list, for any element at index $i$, store the left child elememt at index $2i+1$ and the right child at index $2i+2$, then we can access the parent node at index $\\frac{i-1}{2}$. In this way, we can preserve the edge relationship of the heap inside an array with index value. The values inside the array at section(a) are:\n",
    "$$\n",
    "\\begin{bmatrix}\n",
    "    1&3&4&12&5&6&9&18&27&33&15&7&20\n",
    "\\end{bmatrix}\n",
    "$$\n"
   ]
  },
  {
   "cell_type": "markdown",
   "metadata": {},
   "source": [
    "## Part 3:\n",
    "\n",
    "### Section (a)\n",
    "\n",
    "Answer: iii. 不同的執行緒共享同一塊記憶體空間，而不同的行程各自有自己的記憶體空間。\n",
    "\n",
    "Different threads shares the same memory space, while different process are isolated from each other. \n",
    "\n",
    "### Section (b)\n",
    "\n",
    "Answer: ii. 儲存一個檔案的複數個區塊都落在相鄰的磁碟空間中。\n",
    "\n",
    "By definition, contiguous disk allocation means each file occupies a contiguous set of blocks on the disk.\n",
    "\n",
    "### Section (c)\n",
    "\n",
    "Answer: v. 以上皆非。\n",
    "\n",
    "Virtual memory is a technique used by the operating system to provide a abstract layer of memory to applications so that applications can have its own independent address space. All the other statements are not the correct description.\n",
    "\n",
    "### Section (d)\n",
    "\n",
    "Answer: iii. Disc management\n",
    "\n",
    "The Operating System Course offered by the Information Management department (IM2003) does not cover topics about disc management."
   ]
  }
 ],
 "metadata": {
  "kernelspec": {
   "display_name": "base",
   "language": "python",
   "name": "python3"
  },
  "language_info": {
   "codemirror_mode": {
    "name": "ipython",
    "version": 3
   },
   "file_extension": ".py",
   "mimetype": "text/x-python",
   "name": "python",
   "nbconvert_exporter": "python",
   "pygments_lexer": "ipython3",
   "version": "3.10.12"
  },
  "orig_nbformat": 4
 },
 "nbformat": 4,
 "nbformat_minor": 2
}
